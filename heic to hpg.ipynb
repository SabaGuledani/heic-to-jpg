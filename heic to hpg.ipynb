{
 "cells": [
  {
   "cell_type": "code",
   "execution_count": 3,
   "id": "398d6cc6",
   "metadata": {},
   "outputs": [
    {
     "name": "stdout",
     "output_type": "stream",
     "text": [
      "['IMG_7411.HEIC', 'IMG_7413.HEIC', 'IMG_7414.HEIC', 'IMG_7415.HEIC', 'IMG_7416.HEIC', 'IMG_7417.HEIC', 'IMG_7418.HEIC', 'IMG_7419.HEIC', 'IMG_7420.HEIC', 'IMG_7421.HEIC', 'IMG_7422.HEIC', 'IMG_7423.HEIC', 'IMG_7429.HEIC', 'IMG_7434.HEIC', 'IMG_7435.HEIC', 'IMG_7436.HEIC', 'IMG_7437.HEIC', 'IMG_7438.HEIC', 'IMG_7439.HEIC', 'IMG_7443.HEIC', 'IMG_7445.HEIC', 'IMG_7446.HEIC', 'IMG_7447.HEIC', 'IMG_7448.HEIC', 'IMG_7449.HEIC', 'IMG_7450.HEIC', 'IMG_7451.HEIC', 'IMG_7452.HEIC', 'IMG_7465.HEIC']\n"
     ]
    },
    {
     "ename": "UnidentifiedImageError",
     "evalue": "cannot identify image file 'IMG_7411.HEIC'",
     "output_type": "error",
     "traceback": [
      "\u001b[1;31m---------------------------------------------------------------------------\u001b[0m",
      "\u001b[1;31mUnidentifiedImageError\u001b[0m                    Traceback (most recent call last)",
      "Cell \u001b[1;32mIn[3], line 11\u001b[0m\n\u001b[0;32m      9\u001b[0m \u001b[38;5;66;03m# Convert each file to JPEG\u001b[39;00m\n\u001b[0;32m     10\u001b[0m \u001b[38;5;28;01mfor\u001b[39;00m filename \u001b[38;5;129;01min\u001b[39;00m files:\n\u001b[1;32m---> 11\u001b[0m     image \u001b[38;5;241m=\u001b[39m Image\u001b[38;5;241m.\u001b[39mopen(filename)\n\u001b[0;32m     12\u001b[0m     image\u001b[38;5;241m.\u001b[39mconvert(\u001b[38;5;124m'\u001b[39m\u001b[38;5;124mRGB\u001b[39m\u001b[38;5;124m'\u001b[39m)\u001b[38;5;241m.\u001b[39msave(os\u001b[38;5;241m.\u001b[39mpath\u001b[38;5;241m.\u001b[39mjoin(directory, os\u001b[38;5;241m.\u001b[39mpath\u001b[38;5;241m.\u001b[39msplitext(filename)[\u001b[38;5;241m0\u001b[39m] \u001b[38;5;241m+\u001b[39m \u001b[38;5;124m'\u001b[39m\u001b[38;5;124m.jpg\u001b[39m\u001b[38;5;124m'\u001b[39m))\n",
      "File \u001b[1;32m~\\AppData\\Roaming\\Python\\Python311\\site-packages\\PIL\\Image.py:3280\u001b[0m, in \u001b[0;36mopen\u001b[1;34m(fp, mode, formats)\u001b[0m\n\u001b[0;32m   3278\u001b[0m     warnings\u001b[38;5;241m.\u001b[39mwarn(message)\n\u001b[0;32m   3279\u001b[0m msg \u001b[38;5;241m=\u001b[39m \u001b[38;5;124m\"\u001b[39m\u001b[38;5;124mcannot identify image file \u001b[39m\u001b[38;5;132;01m%r\u001b[39;00m\u001b[38;5;124m\"\u001b[39m \u001b[38;5;241m%\u001b[39m (filename \u001b[38;5;28;01mif\u001b[39;00m filename \u001b[38;5;28;01melse\u001b[39;00m fp)\n\u001b[1;32m-> 3280\u001b[0m \u001b[38;5;28;01mraise\u001b[39;00m UnidentifiedImageError(msg)\n",
      "\u001b[1;31mUnidentifiedImageError\u001b[0m: cannot identify image file 'IMG_7411.HEIC'"
     ]
    }
   ],
   "source": [
    "from PIL import Image\n",
    "\n",
    "\n",
    "# Convert each file to JPEG\n",
    "for filename in files:\n",
    "    image = Image.open(filename)\n",
    "    image.convert('RGB').save(os.path.join(directory, os.path.splitext(filename)[0] + '.jpg'))"
   ]
  },
  {
   "cell_type": "code",
   "execution_count": 4,
   "id": "ece8f022",
   "metadata": {},
   "outputs": [
    {
     "ename": "UnidentifiedImageError",
     "evalue": "cannot identify image file 'IMG_7411.HEIC'",
     "output_type": "error",
     "traceback": [
      "\u001b[1;31m---------------------------------------------------------------------------\u001b[0m",
      "\u001b[1;31mUnidentifiedImageError\u001b[0m                    Traceback (most recent call last)",
      "Cell \u001b[1;32mIn[4], line 3\u001b[0m\n\u001b[0;32m      1\u001b[0m \u001b[38;5;28;01mfrom\u001b[39;00m \u001b[38;5;21;01mPIL\u001b[39;00m \u001b[38;5;28;01mimport\u001b[39;00m Image \u001b[38;5;66;03m# Open HEIF or HEIC file \u001b[39;00m\n\u001b[1;32m----> 3\u001b[0m image \u001b[38;5;241m=\u001b[39m Image\u001b[38;5;241m.\u001b[39mopen(\u001b[38;5;124m'\u001b[39m\u001b[38;5;124mIMG_7411.HEIC\u001b[39m\u001b[38;5;124m'\u001b[39m) \n\u001b[0;32m      5\u001b[0m \u001b[38;5;66;03m# Convert to BMP \u001b[39;00m\n\u001b[0;32m      6\u001b[0m image\u001b[38;5;241m.\u001b[39msave(\u001b[38;5;124m'\u001b[39m\u001b[38;5;124mexample.bmp\u001b[39m\u001b[38;5;124m'\u001b[39m)\n",
      "File \u001b[1;32m~\\AppData\\Roaming\\Python\\Python311\\site-packages\\PIL\\Image.py:3280\u001b[0m, in \u001b[0;36mopen\u001b[1;34m(fp, mode, formats)\u001b[0m\n\u001b[0;32m   3278\u001b[0m     warnings\u001b[38;5;241m.\u001b[39mwarn(message)\n\u001b[0;32m   3279\u001b[0m msg \u001b[38;5;241m=\u001b[39m \u001b[38;5;124m\"\u001b[39m\u001b[38;5;124mcannot identify image file \u001b[39m\u001b[38;5;132;01m%r\u001b[39;00m\u001b[38;5;124m\"\u001b[39m \u001b[38;5;241m%\u001b[39m (filename \u001b[38;5;28;01mif\u001b[39;00m filename \u001b[38;5;28;01melse\u001b[39;00m fp)\n\u001b[1;32m-> 3280\u001b[0m \u001b[38;5;28;01mraise\u001b[39;00m UnidentifiedImageError(msg)\n",
      "\u001b[1;31mUnidentifiedImageError\u001b[0m: cannot identify image file 'IMG_7411.HEIC'"
     ]
    }
   ],
   "source": [
    "from PIL import Image # Open HEIF or HEIC file \n",
    "\n",
    "image = Image.open('IMG_7411.HEIC') \n",
    "\n",
    "# Convert to BMP \n",
    "image.save('example.bmp')"
   ]
  },
  {
   "cell_type": "code",
   "execution_count": 11,
   "id": "1ffce908",
   "metadata": {},
   "outputs": [
    {
     "name": "stdout",
     "output_type": "stream",
     "text": [
      "['IMG_7411.HEIC', 'IMG_7413.HEIC', 'IMG_7414.HEIC', 'IMG_7415.HEIC', 'IMG_7416.HEIC', 'IMG_7417.HEIC', 'IMG_7418.HEIC', 'IMG_7419.HEIC', 'IMG_7420.HEIC', 'IMG_7421.HEIC', 'IMG_7422.HEIC', 'IMG_7423.HEIC', 'IMG_7429.HEIC', 'IMG_7434.HEIC', 'IMG_7435.HEIC', 'IMG_7436.HEIC', 'IMG_7437.HEIC', 'IMG_7438.HEIC', 'IMG_7439.HEIC', 'IMG_7443.HEIC', 'IMG_7445.HEIC', 'IMG_7446.HEIC', 'IMG_7447.HEIC', 'IMG_7448.HEIC', 'IMG_7449.HEIC', 'IMG_7450.HEIC', 'IMG_7451.HEIC', 'IMG_7452.HEIC', 'IMG_7465.HEIC']\n"
     ]
    }
   ],
   "source": [
    "from PIL import Image\n",
    "from pillow_heif import register_heif_opener\n",
    "\n",
    "import os\n",
    "\n",
    "# Get list of HEIF and HEIC files in directory\n",
    "directory = '.'\n",
    "files = [f for f in os.listdir(directory) if f.endswith('.HEIC') or f.endswith('.heif')]\n",
    "print(files)\n",
    "\n",
    "register_heif_opener()\n",
    "for image in files:\n",
    "    with Image.open(image) as im:\n",
    "        im.save(f\"{image[:8]}.jpg\")\n",
    "for file in files:\n",
    "    os.remove(file)"
   ]
  },
  {
   "cell_type": "code",
   "execution_count": 10,
   "id": "2822379e",
   "metadata": {},
   "outputs": [
    {
     "name": "stdout",
     "output_type": "stream",
     "text": [
      "['IMG_7411.HEIC', 'IMG_7413.HEIC', 'IMG_7414.HEIC', 'IMG_7415.HEIC', 'IMG_7416.HEIC', 'IMG_7417.HEIC', 'IMG_7418.HEIC', 'IMG_7419.HEIC', 'IMG_7420.HEIC', 'IMG_7421.HEIC', 'IMG_7422.HEIC', 'IMG_7423.HEIC', 'IMG_7429.HEIC', 'IMG_7434.HEIC', 'IMG_7435.HEIC', 'IMG_7436.HEIC', 'IMG_7437.HEIC', 'IMG_7438.HEIC', 'IMG_7439.HEIC', 'IMG_7443.HEIC', 'IMG_7445.HEIC', 'IMG_7446.HEIC', 'IMG_7447.HEIC', 'IMG_7448.HEIC', 'IMG_7449.HEIC', 'IMG_7450.HEIC', 'IMG_7451.HEIC', 'IMG_7452.HEIC', 'IMG_7465.HEIC']\n"
     ]
    }
   ],
   "source": [
    "directory = '.'\n",
    "files = [f for f in os.listdir(directory) if f.endswith('.HEIC') or f.endswith('.heif')]\n",
    "print(files)\n",
    "for file in files:\n",
    "    os.remove(file)"
   ]
  },
  {
   "cell_type": "code",
   "execution_count": null,
   "id": "35d0967e",
   "metadata": {},
   "outputs": [],
   "source": []
  }
 ],
 "metadata": {
  "kernelspec": {
   "display_name": "Python 3 (ipykernel)",
   "language": "python",
   "name": "python3"
  },
  "language_info": {
   "codemirror_mode": {
    "name": "ipython",
    "version": 3
   },
   "file_extension": ".py",
   "mimetype": "text/x-python",
   "name": "python",
   "nbconvert_exporter": "python",
   "pygments_lexer": "ipython3",
   "version": "3.9.18"
  }
 },
 "nbformat": 4,
 "nbformat_minor": 5
}
